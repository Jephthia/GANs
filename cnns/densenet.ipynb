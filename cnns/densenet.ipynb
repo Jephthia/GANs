{
 "cells": [
  {
   "cell_type": "code",
   "execution_count": 1,
   "metadata": {},
   "outputs": [
    {
     "data": {
      "text/plain": [
       "[PhysicalDevice(name='/physical_device:GPU:0', device_type='GPU')]"
      ]
     },
     "execution_count": 1,
     "metadata": {},
     "output_type": "execute_result"
    }
   ],
   "source": [
    "import tensorflow as tf\n",
    "import numpy as np\n",
    "\n",
    "from tensorflow.data import Dataset\n",
    "from tensorflow.keras.models import Sequential, Model\n",
    "from tensorflow.keras.layers import Conv2D, Layer, Input, MaxPooling2D, ReLU\n",
    "from tensorflow.keras.layers import BatchNormalization, GlobalAveragePooling2D, Dense, Concatenate, AveragePooling2D\n",
    "from tensorflow.keras.optimizers import Adam\n",
    "from tensorflow.keras.datasets import cifar100\n",
    "from tensorflow.keras.callbacks import TensorBoard\n",
    "\n",
    "tf.config.list_physical_devices('GPU')"
   ]
  },
  {
   "cell_type": "code",
   "execution_count": 2,
   "metadata": {},
   "outputs": [],
   "source": [
    "class DenseBlock(Layer):\n",
    "    def __init__(self, block_size, filters, **kwargs):\n",
    "        super().__init__(**kwargs)\n",
    "        self.block_size = block_size\n",
    "        self.filters = filters\n",
    "        self.layers = []\n",
    "\n",
    "        for _ in range(block_size):\n",
    "            self.layers.append(BottleneckLayer(filters))\n",
    "\n",
    "    def call(self, x, training=False):\n",
    "        for layer in self.layers:\n",
    "            x = layer(x, training=training)\n",
    "            \n",
    "        return x\n",
    "    \n",
    "    def get_config(self):\n",
    "        config = super().get_config()\n",
    "\n",
    "        config.update({\n",
    "            'block_size': self.block_size,\n",
    "            'filters': self.filters,\n",
    "            'layers': self.layers\n",
    "        })\n",
    "        \n",
    "        return config"
   ]
  },
  {
   "cell_type": "code",
   "execution_count": 3,
   "metadata": {},
   "outputs": [],
   "source": [
    "class BottleneckLayer(Layer):\n",
    "    def __init__(self, filters, **kwargs):\n",
    "        super().__init__(**kwargs)\n",
    "        self.filters = filters\n",
    "        \n",
    "        self.batch_norm1 = BatchNormalization()\n",
    "        self.batch_norm2 = BatchNormalization()\n",
    "        self.conv1 = Conv2D(filters, 1, padding='same')\n",
    "        self.conv2 = Conv2D(filters, 3, padding='same')\n",
    "        self.relu = ReLU()\n",
    "        self.concat = Concatenate()\n",
    "        \n",
    "    def call(self, x, training=False):\n",
    "        previous_x = x\n",
    "        x = self.batch_norm1(x, training=training)\n",
    "        x = self.relu(x)\n",
    "        x = self.conv1(x)\n",
    "        x = self.batch_norm2(x, training=training)\n",
    "        x = self.relu(x)\n",
    "        x = self.conv2(x)\n",
    "        x = self.concat([previous_x, x])\n",
    "        \n",
    "        return x\n",
    "    \n",
    "    def get_config(self):\n",
    "        config = super().get_config()\n",
    "\n",
    "        config.update({\n",
    "            'filters': self.filters,\n",
    "            'batch_norm1': self.batch_norm1,\n",
    "            'batch_norm2': self.batch_norm2,\n",
    "            'conv1': self.conv1,\n",
    "            'conv2': self.conv2,\n",
    "            'relu': self.relu,\n",
    "            'concat': self.concat\n",
    "        })\n",
    "        \n",
    "        return config"
   ]
  },
  {
   "cell_type": "code",
   "execution_count": 4,
   "metadata": {},
   "outputs": [],
   "source": [
    "class TransitionBlock(Layer):\n",
    "    def __init__(self, filters, **kwargs):\n",
    "        super().__init__(**kwargs)\n",
    "        self.filters = filters\n",
    "\n",
    "        self.batch_norm = BatchNormalization()\n",
    "        self.relu = ReLU()\n",
    "        self.conv = Conv2D(filters, 1, padding='same')\n",
    "        self.avg_pool = AveragePooling2D(strides=2, padding='same')\n",
    "        \n",
    "    def call(self, x, training=False):\n",
    "        x = self.batch_norm(x, training=training)\n",
    "        x = self.relu(x)\n",
    "        x = self.conv(x)\n",
    "        x = self.avg_pool(x)\n",
    "        \n",
    "        return x\n",
    "    \n",
    "    def get_config(self):\n",
    "        config = super().get_config()\n",
    "\n",
    "        config.update({\n",
    "            'filters': self.filters,\n",
    "            'batch_norm': self.batch_norm,\n",
    "            'relu': self.relu,\n",
    "            'conv': self.conv,\n",
    "            'avg_pool': self.avg_pool\n",
    "        })\n",
    "        \n",
    "        return config"
   ]
  },
  {
   "cell_type": "code",
   "execution_count": 5,
   "metadata": {},
   "outputs": [],
   "source": [
    "class InputBlock(Layer):\n",
    "    def __init__(self, filters, **kwargs):\n",
    "        super().__init__(**kwargs)\n",
    "        self.filters = filters\n",
    "        \n",
    "        self.conv = Conv2D(filters, 7, padding='same', strides=2)\n",
    "        self.batch_norm = BatchNormalization()\n",
    "        self.relu = ReLU()\n",
    "        self.max_pool = MaxPooling2D(strides=2)\n",
    "        \n",
    "    def call(self, x, training=False):\n",
    "        x = self.conv(x)\n",
    "        x = self.batch_norm(x, training=training)\n",
    "        x = self.relu(x)\n",
    "        x = self.max_pool(x)\n",
    "        \n",
    "        return x\n",
    "    \n",
    "    def get_config(self):\n",
    "        config = super().get_config()\n",
    "\n",
    "        config.update({\n",
    "            'filters': self.filters,\n",
    "            'conv': self.conv,\n",
    "            'batch_norm': self.batch_norm,\n",
    "            'relu': self.relu,\n",
    "            'max_pool': self.max_pool\n",
    "        })\n",
    "        \n",
    "        return config"
   ]
  },
  {
   "cell_type": "code",
   "execution_count": 6,
   "metadata": {},
   "outputs": [],
   "source": [
    "class DenseNet(Sequential):\n",
    "    def __init__(self, input_shape, num_classes, block_sizes=[6,12,24,16], init_filters=24, growth_rate=12, compression=0.5, **kwargs):\n",
    "        super().__init__(**kwargs)\n",
    "        \n",
    "        self.add(Input(input_shape))\n",
    "        self.add(Conv2D(init_filters, 3, padding='same'))\n",
    "#         self.add(InputBlock(filters=init_filters))\n",
    "        \n",
    "        for block_size in block_sizes:\n",
    "            self.add(DenseBlock(block_size, filters=growth_rate))\n",
    "            init_filters = (init_filters + (block_size * growth_rate)) * compression\n",
    "            self.add(TransitionBlock(filters=init_filters))\n",
    "\n",
    "        self.add(BatchNormalization())\n",
    "        self.add(ReLU())\n",
    "        self.add(GlobalAveragePooling2D())\n",
    "        self.add(Dense(num_classes, activation='softmax'))"
   ]
  },
  {
   "cell_type": "code",
   "execution_count": 7,
   "metadata": {},
   "outputs": [],
   "source": [
    "def load_ds():\n",
    "    (X_train, y_train), (X_val, y_val) = cifar100.load_data()\n",
    "\n",
    "    X_train = X_train / 255.0\n",
    "    X_val = X_val / 255.0\n",
    "\n",
    "    train_ds = Dataset.from_tensor_slices((X_train, y_train))\n",
    "    train_ds = train_ds.shuffle(50000)\n",
    "    train_ds = train_ds.batch(64)\n",
    "\n",
    "    val_ds = Dataset.from_tensor_slices((X_val, y_val))\n",
    "    val_ds = val_ds.shuffle(10000)\n",
    "    val_ds = val_ds.batch(64)\n",
    "    \n",
    "    return train_ds, val_ds"
   ]
  },
  {
   "cell_type": "code",
   "execution_count": null,
   "metadata": {},
   "outputs": [
    {
     "name": "stdout",
     "output_type": "stream",
     "text": [
      "Epoch 1/10\n",
      "782/782 [==============================] - 265s 326ms/step - loss: 3.9226 - accuracy: 0.1078 - val_loss: 3.9565 - val_accuracy: 0.1237\n"
     ]
    }
   ],
   "source": [
    "dense_net = DenseNet(input_shape=(32, 32, 3), num_classes=100)\n",
    "\n",
    "dense_net.compile('adam', loss='sparse_categorical_crossentropy', metrics=['accuracy'])\n",
    "\n",
    "train_ds, val_ds = load_ds()\n",
    "\n",
    "dense_net.fit(train_ds, epochs=10, validation_data=val_ds)\n",
    "\n",
    "# dense_net.summary(line_length=100)"
   ]
  },
  {
   "cell_type": "code",
   "execution_count": null,
   "metadata": {},
   "outputs": [],
   "source": []
  }
 ],
 "metadata": {
  "kernelspec": {
   "display_name": "Python 3",
   "language": "python",
   "name": "python3"
  },
  "language_info": {
   "codemirror_mode": {
    "name": "ipython",
    "version": 3
   },
   "file_extension": ".py",
   "mimetype": "text/x-python",
   "name": "python",
   "nbconvert_exporter": "python",
   "pygments_lexer": "ipython3",
   "version": "3.8.5"
  }
 },
 "nbformat": 4,
 "nbformat_minor": 4
}
